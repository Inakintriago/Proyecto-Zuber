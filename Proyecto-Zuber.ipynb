{
 "cells": [
  {
   "cell_type": "markdown",
   "metadata": {},
   "source": [
    "**Paso 4. Análisis exploratorio de datos (Python)**"
   ]
  },
  {
   "cell_type": "code",
   "execution_count": 2,
   "metadata": {},
   "outputs": [],
   "source": [
    "# importar librerías\n",
    "import pandas as pd\n",
    "import numpy as np\n",
    "import matplotlib.pyplot as plt\n",
    "import seaborn as sns\n",
    "from scipy import stats\n",
    "from scipy.stats import ttest_ind"
   ]
  },
  {
   "cell_type": "markdown",
   "metadata": {},
   "source": [
    "### DataFrame C O M P A N Y"
   ]
  },
  {
   "cell_type": "code",
   "execution_count": 3,
   "metadata": {},
   "outputs": [
    {
     "name": "stdout",
     "output_type": "stream",
     "text": [
      "                      company_name  trips_amount\n",
      "0                        Flash Cab         19558\n",
      "1        Taxi Affiliation Services         11422\n",
      "2                Medallion Leasing         10367\n",
      "3                       Yellow Cab          9888\n",
      "4  Taxi Affiliation Service Yellow          9299\n",
      "----------------------------------------------------------------\n",
      "(64, 2)\n",
      "----------------------------------------------------------------\n",
      "<class 'pandas.core.frame.DataFrame'>\n",
      "RangeIndex: 64 entries, 0 to 63\n",
      "Data columns (total 2 columns):\n",
      " #   Column        Non-Null Count  Dtype \n",
      "---  ------        --------------  ----- \n",
      " 0   company_name  64 non-null     object\n",
      " 1   trips_amount  64 non-null     int64 \n",
      "dtypes: int64(1), object(1)\n",
      "memory usage: 1.1+ KB\n",
      "None\n",
      "----------------------------------------------------------------\n",
      "       trips_amount\n",
      "count     64.000000\n",
      "mean    2145.484375\n",
      "std     3812.310186\n",
      "min        2.000000\n",
      "25%       20.750000\n",
      "50%      178.500000\n",
      "75%     2106.500000\n",
      "max    19558.000000\n"
     ]
    }
   ],
   "source": [
    "# Leemos el primer conjunto de datos en un DataFrame\n",
    "company = pd.read_csv('/datasets/project_sql_result_01.csv')\n",
    "\n",
    "# Imprimimos el head del df\n",
    "print(company.head())\n",
    "\n",
    "print(\"----------------------------------------------------------------\")\n",
    "\n",
    "# Imprimimos el shape del df\n",
    "print(company.shape)\n",
    "\n",
    "print(\"----------------------------------------------------------------\")\n",
    "\n",
    "# Imprimimos la información del df\n",
    "print(company.info())\n",
    "\n",
    "print(\"----------------------------------------------------------------\")\n",
    "\n",
    "# Imprimimos la estadística descritiva del df\n",
    "print(company.describe())"
   ]
  },
  {
   "cell_type": "code",
   "execution_count": 4,
   "metadata": {},
   "outputs": [
    {
     "name": "stdout",
     "output_type": "stream",
     "text": [
      "company_name    0\n",
      "trips_amount    0\n",
      "dtype: int64\n"
     ]
    }
   ],
   "source": [
    "# Verificamos si hay valores nulos\n",
    "print(company.isnull().sum())"
   ]
  },
  {
   "cell_type": "code",
   "execution_count": 5,
   "metadata": {},
   "outputs": [],
   "source": [
    "# Si queremos eliminar los datos usamos el siguiente código\n",
    "# company_null = company.duplicated().sum()"
   ]
  },
  {
   "cell_type": "code",
   "execution_count": 6,
   "metadata": {},
   "outputs": [
    {
     "name": "stdout",
     "output_type": "stream",
     "text": [
      "company_name    object\n",
      "trips_amount     int64\n",
      "dtype: object\n"
     ]
    }
   ],
   "source": [
    "# Tipos de datos\n",
    "\n",
    "# Primero inspeccionamos los tipos actuales\n",
    "print(company.dtypes)"
   ]
  },
  {
   "cell_type": "code",
   "execution_count": 7,
   "metadata": {},
   "outputs": [
    {
     "name": "stdout",
     "output_type": "stream",
     "text": [
      "company_name    string\n",
      "trips_amount     int64\n",
      "dtype: object\n"
     ]
    }
   ],
   "source": [
    "# Cambiamos el tipo de dato de la columna \"company_name\"\n",
    "company['company_name'] = company['company_name'].astype('string')\n",
    "print(company.dtypes)"
   ]
  },
  {
   "cell_type": "markdown",
   "metadata": {},
   "source": [
    "### DataFrame L O C A T I O N"
   ]
  },
  {
   "cell_type": "code",
   "execution_count": 8,
   "metadata": {},
   "outputs": [
    {
     "name": "stdout",
     "output_type": "stream",
     "text": [
      "  dropoff_location_name  average_trips\n",
      "0                  Loop   10727.466667\n",
      "1           River North    9523.666667\n",
      "2         Streeterville    6664.666667\n",
      "3             West Loop    5163.666667\n",
      "4                O'Hare    2546.900000\n",
      "----------------------------------------------------------------\n",
      "(94, 2)\n",
      "----------------------------------------------------------------\n",
      "<class 'pandas.core.frame.DataFrame'>\n",
      "RangeIndex: 94 entries, 0 to 93\n",
      "Data columns (total 2 columns):\n",
      " #   Column                 Non-Null Count  Dtype  \n",
      "---  ------                 --------------  -----  \n",
      " 0   dropoff_location_name  94 non-null     object \n",
      " 1   average_trips          94 non-null     float64\n",
      "dtypes: float64(1), object(1)\n",
      "memory usage: 1.6+ KB\n",
      "None\n",
      "----------------------------------------------------------------\n",
      "       average_trips\n",
      "count      94.000000\n",
      "mean      599.953728\n",
      "std      1714.591098\n",
      "min         1.800000\n",
      "25%        14.266667\n",
      "50%        52.016667\n",
      "75%       298.858333\n",
      "max     10727.466667\n"
     ]
    }
   ],
   "source": [
    "# Leemos el conjunto de datos en un DataFrame\n",
    "location = pd.read_csv('/datasets/project_sql_result_04.csv')\n",
    "\n",
    "# Imprimimos el head del df\n",
    "print(location.head())\n",
    "\n",
    "print(\"----------------------------------------------------------------\")\n",
    "\n",
    "# Imprimimos el shape del df\n",
    "print(location.shape)\n",
    "\n",
    "print(\"----------------------------------------------------------------\")\n",
    "\n",
    "# Imprimimos la información del df\n",
    "print(location.info())\n",
    "\n",
    "print(\"----------------------------------------------------------------\")\n",
    "\n",
    "# Imprimimos la estadística descritiva del df\n",
    "print(location.describe())"
   ]
  },
  {
   "cell_type": "code",
   "execution_count": 9,
   "metadata": {},
   "outputs": [
    {
     "name": "stdout",
     "output_type": "stream",
     "text": [
      "dropoff_location_name    0\n",
      "average_trips            0\n",
      "dtype: int64\n"
     ]
    }
   ],
   "source": [
    "# Verificamos si hay valores nulos\n",
    "print(location.isnull().sum())"
   ]
  },
  {
   "cell_type": "code",
   "execution_count": 10,
   "metadata": {},
   "outputs": [
    {
     "name": "stdout",
     "output_type": "stream",
     "text": [
      "dropoff_location_name     object\n",
      "average_trips            float64\n",
      "dtype: object\n"
     ]
    }
   ],
   "source": [
    "# Tipos de datos\n",
    "\n",
    "# Primero inspeccionamos los tipos actuales\n",
    "print(location.dtypes)"
   ]
  },
  {
   "cell_type": "code",
   "execution_count": 11,
   "metadata": {},
   "outputs": [
    {
     "name": "stdout",
     "output_type": "stream",
     "text": [
      "dropoff_location_name     string\n",
      "average_trips            float64\n",
      "dtype: object\n"
     ]
    }
   ],
   "source": [
    "# Cambiamos el tipo de dato de la columna \"dropoff_location_name\"\n",
    "location['dropoff_location_name'] = location['dropoff_location_name'].astype('string')\n",
    "print(location.dtypes)"
   ]
  },
  {
   "cell_type": "markdown",
   "metadata": {},
   "source": [
    "Identificación los 10 principales barrios en términos de finalización del recorrido"
   ]
  },
  {
   "cell_type": "code",
   "execution_count": 12,
   "metadata": {},
   "outputs": [
    {
     "name": "stdout",
     "output_type": "stream",
     "text": [
      "Top 10 barrios con más finalizaciones de viajes:\n",
      "  dropoff_location_name  average_trips\n",
      "0                  Loop   10727.466667\n",
      "1           River North    9523.666667\n",
      "2         Streeterville    6664.666667\n",
      "3             West Loop    5163.666667\n",
      "4                O'Hare    2546.900000\n",
      "5             Lake View    2420.966667\n",
      "6            Grant Park    2068.533333\n",
      "7         Museum Campus    1510.000000\n",
      "8            Gold Coast    1364.233333\n",
      "9    Sheffield & DePaul    1259.766667\n"
     ]
    }
   ],
   "source": [
    "# Ordenar la tabla 'location' por el promedio de viajes en orden descendente\n",
    "top_10_neighborhoods = location.sort_values(by='average_trips', ascending=False).head(10)\n",
    "\n",
    "# Mostrar los resultados\n",
    "print(\"Top 10 barrios con más finalizaciones de viajes:\")\n",
    "print(top_10_neighborhoods[['dropoff_location_name', 'average_trips']])"
   ]
  },
  {
   "cell_type": "markdown",
   "metadata": {},
   "source": [
    "**Gráfico de empresas de taxis y número de viajes**"
   ]
  },
  {
   "cell_type": "code",
   "execution_count": 13,
   "metadata": {},
   "outputs": [
    {
     "data": {
      "image/png": "[encoded data removed]",
      "text/plain": [
       "<Figure size 1000x600 with 1 Axes>"
      ]
     },
     "metadata": {},
     "output_type": "display_data"
    }
   ],
   "source": [
    "# Ordenar las empresas de taxis por número de viajes en orden descendente\n",
    "company_sorted = company.sort_values(by='trips_amount', ascending=False).head(10)\n",
    "\n",
    "# Crear el gráfico de barras\n",
    "plt.figure(figsize=(10, 6))\n",
    "sns.barplot(data=company_sorted, x='trips_amount', y='company_name', palette='viridis')\n",
    "\n",
    "# Personalizar el gráfico\n",
    "plt.title('Número de Viajes por Empresa de Taxis', fontsize=16)\n",
    "plt.xlabel('Número de Viajes', fontsize=12)\n",
    "plt.ylabel('Empresa de Taxis', fontsize=12)\n",
    "plt.tight_layout()\n",
    "plt.show()"
   ]
  },
  {
   "cell_type": "markdown",
   "metadata": {},
   "source": [
    "Este gráfico muestra el número de viajes realizados por cada empresa de taxis en novimebre de 2017.\n",
    "\n",
    "Al observarlo podemos notar que la empresa \"Flash Cab\" es la empresa dominante; es decir, con mayor número de viajes en este periodo de tiempo. Esto quiere decir que esta empresa tiene una mayor participación de mercado o es más eficiente en esos días específicos.\n",
    "\n",
    "Las siguientes 4 empresas (Taxi Affiliation Services, Medallion Leasing, Yellow Cab y Taxi Affiliation Service Yellow) son la competencia; es decir, tienen viajes similares en este periodo de tiempo y le podrían competir a \"Flash Cab\" en cuanto a número de viajes. Si esta empresa se descuida, el mercado puede cambiar para alguna de estas 4 empresas.\n",
    "\n",
    "A pesar de que la compañía \"Flash Cab\" tiene alrededor de 20,000 viajes en Noviembre, las 4 siguientes empresas rondan entre los 10,000 y 12,500 viajes al mes, lo que quiere decir que hay diversificación en cuanto a las empresas de taxis, excluyendo a la top 1. Si estas 4 empresas no logran diferenciarse del mercado, acabaran por ser detronadas.\n"
   ]
  },
  {
   "cell_type": "markdown",
   "metadata": {},
   "source": [
    "**Gráfico de los 10 principales barrios por finalización**"
   ]
  },
  {
   "cell_type": "code",
   "execution_count": 14,
   "metadata": {},
   "outputs": [
    {
     "data": {
      "image/png": "[encoded data removed]",
      "text/plain": [
       "<Figure size 1000x600 with 1 Axes>"
      ]
     },
     "metadata": {},
     "output_type": "display_data"
    }
   ],
   "source": [
    "# Ordenar los barrios por promedio de viajes en orden descendente y tomar los 10 primeros\n",
    "top_10_neighborhoods = location.sort_values(by='average_trips', ascending=False).head(10)\n",
    "\n",
    "# Crear el gráfico de barras\n",
    "plt.figure(figsize=(10, 6))\n",
    "sns.barplot(data=top_10_neighborhoods, x='average_trips', y='dropoff_location_name', palette='coolwarm')\n",
    "\n",
    "# Personalizar el gráfico\n",
    "plt.title('Top 10 Barrios por Finalización de Viajes', fontsize=16)\n",
    "plt.xlabel('Promedio de Viajes', fontsize=12)\n",
    "plt.ylabel('Barrios', fontsize=12)\n",
    "plt.tight_layout()\n",
    "plt.show()"
   ]
  },
  {
   "cell_type": "markdown",
   "metadata": {},
   "source": [
    "Este gráfico muestra los barrios con el mayor promedio de finalización de viajes durante noviembre de 2017.\n",
    "\n",
    "Posibles Conclusiones:\n",
    "\n",
    "Los barrios populares como Loop y River North pueden ser áreas con alta actividad comercial, turística o residencial. Aquí será cuestión de investigar si en efecto tienen alguno de estos temas que activen la demadna de taxis en la zona.\n",
    "\n",
    "Además, puede que estos barrios top en viajes tengan preferencias de destino final como el trabajo de muchas personas. \n",
    "\n",
    "Por otro lado, los barrios con menor cantidad de viajes como Gold Coast o Sheffield & DePaul pueden ser barrios propensos a la delincuencia o simplmente barrios donde no hay necesidad de visitar debido a que no dan valor a los usuarios. \n",
    "\n",
    "Todo esto son suposiciones, para entender el comportamiento de estos barrios se deberá hacer un análisis más profundo para identificar los patrones y resultados obtenidos."
   ]
  },
  {
   "cell_type": "markdown",
   "metadata": {},
   "source": [
    "**Conclusiones Generales**"
   ]
  },
  {
   "cell_type": "markdown",
   "metadata": {},
   "source": [
    "Ambos gráficos ofrecen una visión complementaria del mercado de taxis en Chicago:\n",
    "\n",
    "Demanda por Compañías: El análisis de las empresas revela qué empresas dominan o cómo se distribuyen los viajes en un mercado competitivo.\n",
    "Patrones de Destino: Los datos de los barrios reflejan la dinámica de movilidad urbana, ayudando a entender dónde están los focos de demanda y qué áreas son críticas para los servicios de transporte.\n",
    "\n",
    "Estos insights podrían ser valiosos para:\n",
    "\n",
    "Empresas de taxis, para optimizar la distribución de vehículos.\n",
    "Urbanistas, para analizar patrones de movilidad.\n",
    "Políticas públicas, para diseñar mejores infraestructuras de transporte."
   ]
  },
  {
   "cell_type": "markdown",
   "metadata": {},
   "source": [
    "**Paso 5. Prueba de hipótesis (Python)**"
   ]
  },
  {
   "cell_type": "code",
   "execution_count": 15,
   "metadata": {},
   "outputs": [
    {
     "name": "stdout",
     "output_type": "stream",
     "text": [
      "              start_ts weather_conditions  duration_seconds\n",
      "0  2017-11-25 16:00:00               Good            2410.0\n",
      "1  2017-11-25 14:00:00               Good            1920.0\n",
      "2  2017-11-25 12:00:00               Good            1543.0\n",
      "3  2017-11-04 10:00:00               Good            2512.0\n",
      "4  2017-11-11 07:00:00               Good            1440.0\n",
      "----------------------------------------------------------------\n",
      "(1068, 3)\n",
      "----------------------------------------------------------------\n",
      "<class 'pandas.core.frame.DataFrame'>\n",
      "RangeIndex: 1068 entries, 0 to 1067\n",
      "Data columns (total 3 columns):\n",
      " #   Column              Non-Null Count  Dtype  \n",
      "---  ------              --------------  -----  \n",
      " 0   start_ts            1068 non-null   object \n",
      " 1   weather_conditions  1068 non-null   object \n",
      " 2   duration_seconds    1068 non-null   float64\n",
      "dtypes: float64(1), object(2)\n",
      "memory usage: 25.2+ KB\n",
      "None\n",
      "----------------------------------------------------------------\n",
      "       duration_seconds\n",
      "count       1068.000000\n",
      "mean        2071.731273\n",
      "std          769.461125\n",
      "min            0.000000\n",
      "25%         1438.250000\n",
      "50%         1980.000000\n",
      "75%         2580.000000\n",
      "max         7440.000000\n"
     ]
    }
   ],
   "source": [
    "# Leemos el primer conjunto de datos en un DataFrame\n",
    "viajes = pd.read_csv('/datasets/project_sql_result_07.csv')\n",
    "\n",
    "# Imprimimos el head del df\n",
    "print(viajes.head())\n",
    "\n",
    "print(\"----------------------------------------------------------------\")\n",
    "\n",
    "# Imprimimos el shape del df\n",
    "print(viajes.shape)\n",
    "\n",
    "print(\"----------------------------------------------------------------\")\n",
    "\n",
    "# Imprimimos la información del df\n",
    "print(viajes.info())\n",
    "\n",
    "print(\"----------------------------------------------------------------\")\n",
    "\n",
    "# Imprimimos la estadística descritiva del df\n",
    "print(viajes.describe())"
   ]
  },
  {
   "cell_type": "markdown",
   "metadata": {},
   "source": [
    "Prueba de Hipótesis:\n",
    "\n",
    "\"La duración promedio de los viajes desde el Loop hasta el Aeropuerto Internacional O'Hare cambia los sábados lluviosos\".\n",
    "\n",
    "Decide por tu cuenta dónde establecer el nivel de significación (alfa).\n",
    "\n",
    "Explica:\n",
    "\n",
    "cómo planteaste las hipótesis nula y alternativa\n",
    "qué criterio usaste para probar las hipótesis y por qué"
   ]
  },
  {
   "cell_type": "markdown",
   "metadata": {},
   "source": [
    "**Planteamiento de las Hipótesis**\n",
    "\n",
    "Hipótesis Nula (𝐻0): La duración promedio de los viajes desde el Loop hasta el Aeropuerto Internacional O'Hare no cambia en los sábados lluviosos.\n",
    "Matemáticamente:\n",
    "\n",
    "𝐻\n",
    "0\n",
    ":\n",
    "𝜇 sabados lluviosos = 𝜇 sabados no lluviosos\n",
    "\n",
    "Hipótesis Alternativa (Ha): La duración promedio de los viajes desde el Loop hasta el Aeropuerto Internacional O'Hare cambia en los sábados lluviosos.\n",
    "Matemáticamente:\n",
    "\n",
    "𝐻𝑎 : 𝜇 sabados lluviosos ≠ 𝜇 sabados no lluviosos\n",
    "\n"
   ]
  },
  {
   "cell_type": "code",
   "execution_count": null,
   "metadata": {},
   "outputs": [],
   "source": []
  },
  {
   "cell_type": "markdown",
   "metadata": {},
   "source": [
    "Nivel de significación (\n",
    "𝛼\n",
    "α):\n",
    "Elegiremos un \n",
    "𝛼\n",
    "=\n",
    "0.05\n",
    "α=0.05 (nivel de confianza del 95%), que es estándar en análisis estadísticos. Esto significa que estamos dispuestos a aceptar un 5% de probabilidad de rechazar la hipótesis nula cuando es verdadera.\n",
    "\n",
    "Criterio para Decisión:\n",
    "\n",
    "Si el valor p de la prueba t es menor que \n",
    "𝛼\n",
    "α, rechazamos \n",
    "𝐻\n",
    "0\n",
    "H \n",
    "0\n",
    "​\n",
    " .\n",
    "Si el valor p es mayor o igual a \n",
    "𝛼\n",
    "α, no rechazamos \n",
    "𝐻\n",
    "0\n",
    "H \n",
    "0\n",
    "​\n",
    " ."
   ]
  },
  {
   "cell_type": "code",
   "execution_count": 16,
   "metadata": {},
   "outputs": [
    {
     "name": "stdout",
     "output_type": "stream",
     "text": [
      "Valores únicos en 'weather_conditions': ['Good' 'Bad']\n"
     ]
    }
   ],
   "source": [
    "# Convertir 'start_ts' a formato datetime\n",
    "viajes['start_ts'] = pd.to_datetime(viajes['start_ts'])\n",
    "\n",
    "# Filtrar los datos para sábados\n",
    "viajes['day_of_week'] = viajes['start_ts'].dt.day_name()\n",
    "saturdays = viajes[viajes['day_of_week'] == 'Saturday']\n",
    "\n",
    "# Separar sábados lluviosos y no lluviosos\n",
    "# Verifica los valores únicos de 'weather_conditions'\n",
    "print(\"Valores únicos en 'weather_conditions':\", saturdays['weather_conditions'].unique())\n",
    "\n",
    "# Filtrar según las condiciones reales en los datos\n",
    "rainy_saturdays = saturdays[saturdays['weather_conditions'].str.contains('Bad', na=False)]['duration_seconds'].dropna()\n",
    "non_rainy_saturdays = saturdays[saturdays['weather_conditions'].str.contains('Good', na=False)]['duration_seconds'].dropna()"
   ]
  },
  {
   "cell_type": "code",
   "execution_count": 17,
   "metadata": {},
   "outputs": [
    {
     "name": "stdout",
     "output_type": "stream",
     "text": [
      "Prueba de Levene - valor p: 0.5332038671974493\n",
      "No podemos rechazar la hipótesis nula: Las varianzas son iguales.\n",
      "Prueba t - valor p: 6.517970327099473e-12\n",
      "Rechazamos la hipótesis nula: Existe una diferencia significativa en la duración promedio de los viajes en sábados lluviosos.\n"
     ]
    }
   ],
   "source": [
    "# Definir el nivel de significancia\n",
    "alpha = 0.05\n",
    "\n",
    "# Prueba de Levene para evaluar la igualdad de varianzas\n",
    "levene_test = stats.levene(rainy_saturdays, non_rainy_saturdays)\n",
    "print('Prueba de Levene - valor p:', levene_test.pvalue)\n",
    "\n",
    "# Verificación de la hipótesis nula de Levene\n",
    "if levene_test.pvalue < alpha:\n",
    "    print(\"Rechazamos la hipótesis nula: Las varianzas no son iguales.\")\n",
    "    equal_var = False\n",
    "else:\n",
    "    print(\"No podemos rechazar la hipótesis nula: Las varianzas son iguales.\")\n",
    "    equal_var = True\n",
    "\n",
    "# Prueba t de dos muestras considerando el resultado de Levene\n",
    "results = stats.ttest_ind(rainy_saturdays, non_rainy_saturdays, equal_var=equal_var)\n",
    "\n",
    "# Resultados\n",
    "print('Prueba t - valor p:', results.pvalue)\n",
    "\n",
    "# Verificación de la hipótesis nula\n",
    "if results.pvalue < alpha:\n",
    "    print(\"Rechazamos la hipótesis nula: Existe una diferencia significativa en la duración promedio de los viajes en sábados lluviosos.\")\n",
    "else:\n",
    "    print(\"No podemos rechazar la hipótesis nula: No hay diferencia significativa en la duración promedio de los viajes en sábados lluviosos.\")"
   ]
  },
  {
   "cell_type": "markdown",
   "metadata": {},
   "source": [
    "Interpretación de los Resultados\n",
    "\n",
    "Como 𝑝≥𝛼, podemos decir que hay evidencia suficiente para concluir que la lluvia afecta la duración promedio de los viajes los sábados."
   ]
  }
 ],
 "metadata": {
  "ExecuteTimeLog": [
   {
    "duration": 168,
    "start_time": "2024-12-04T00:56:07.832Z"
   },
   {
    "duration": 2553,
    "start_time": "2024-12-04T00:56:13.186Z"
   },
   {
    "duration": 12,
    "start_time": "2024-12-04T00:56:15.741Z"
   },
   {
    "duration": 10,
    "start_time": "2024-12-04T00:56:37.518Z"
   },
   {
    "duration": 8,
    "start_time": "2024-12-04T00:57:29.076Z"
   },
   {
    "duration": 0,
    "start_time": "2024-12-04T00:57:29.086Z"
   },
   {
    "duration": 0,
    "start_time": "2024-12-04T00:57:29.087Z"
   },
   {
    "duration": 0,
    "start_time": "2024-12-04T00:57:29.088Z"
   },
   {
    "duration": 0,
    "start_time": "2024-12-04T00:57:29.089Z"
   },
   {
    "duration": 0,
    "start_time": "2024-12-04T00:57:29.091Z"
   },
   {
    "duration": 819,
    "start_time": "2024-12-04T00:58:11.509Z"
   },
   {
    "duration": 8,
    "start_time": "2024-12-04T00:58:12.331Z"
   },
   {
    "duration": 7,
    "start_time": "2024-12-04T00:58:12.431Z"
   },
   {
    "duration": 803,
    "start_time": "2024-12-04T00:58:33.024Z"
   },
   {
    "duration": 8,
    "start_time": "2024-12-04T00:58:33.831Z"
   },
   {
    "duration": 7,
    "start_time": "2024-12-04T00:58:33.841Z"
   },
   {
    "duration": 7,
    "start_time": "2024-12-04T01:00:22.979Z"
   },
   {
    "duration": 7,
    "start_time": "2024-12-04T01:00:42.908Z"
   },
   {
    "duration": 8,
    "start_time": "2024-12-04T01:00:44.012Z"
   },
   {
    "duration": 7,
    "start_time": "2024-12-04T01:00:49.081Z"
   },
   {
    "duration": 8,
    "start_time": "2024-12-04T01:00:53.772Z"
   },
   {
    "duration": 27,
    "start_time": "2024-12-04T01:02:18.295Z"
   },
   {
    "duration": 16,
    "start_time": "2024-12-04T01:02:20.258Z"
   },
   {
    "duration": 5,
    "start_time": "2024-12-04T01:04:08.819Z"
   },
   {
    "duration": 4,
    "start_time": "2024-12-04T01:04:20.933Z"
   },
   {
    "duration": 3,
    "start_time": "2024-12-04T01:05:48.040Z"
   },
   {
    "duration": 3,
    "start_time": "2024-12-04T01:05:58.504Z"
   },
   {
    "duration": 4,
    "start_time": "2024-12-04T01:06:34.984Z"
   },
   {
    "duration": 4,
    "start_time": "2024-12-04T01:06:39.934Z"
   },
   {
    "duration": 723,
    "start_time": "2024-12-04T01:07:16.268Z"
   },
   {
    "duration": 5,
    "start_time": "2024-12-04T01:07:22.396Z"
   },
   {
    "duration": 6,
    "start_time": "2024-12-04T01:09:46.342Z"
   },
   {
    "duration": 1295,
    "start_time": "2024-12-04T01:11:46.851Z"
   },
   {
    "duration": 285,
    "start_time": "2024-12-04T01:15:09.404Z"
   },
   {
    "duration": 242,
    "start_time": "2024-12-04T01:15:52.948Z"
   },
   {
    "duration": 277,
    "start_time": "2024-12-04T01:21:17.778Z"
   },
   {
    "duration": 2493,
    "start_time": "2024-12-09T18:11:45.215Z"
   },
   {
    "duration": 21,
    "start_time": "2024-12-09T18:11:47.710Z"
   },
   {
    "duration": 4,
    "start_time": "2024-12-09T18:11:47.732Z"
   },
   {
    "duration": 3,
    "start_time": "2024-12-09T18:11:47.738Z"
   },
   {
    "duration": 3,
    "start_time": "2024-12-09T18:11:47.743Z"
   },
   {
    "duration": 16,
    "start_time": "2024-12-09T18:11:47.748Z"
   },
   {
    "duration": 24,
    "start_time": "2024-12-09T18:11:47.765Z"
   },
   {
    "duration": 3,
    "start_time": "2024-12-09T18:11:47.791Z"
   },
   {
    "duration": 4,
    "start_time": "2024-12-09T18:11:47.796Z"
   },
   {
    "duration": 5,
    "start_time": "2024-12-09T18:11:47.802Z"
   },
   {
    "duration": 365,
    "start_time": "2024-12-09T18:11:47.809Z"
   },
   {
    "duration": 264,
    "start_time": "2024-12-09T18:11:48.176Z"
   },
   {
    "duration": 19,
    "start_time": "2024-12-09T18:14:04.785Z"
   },
   {
    "duration": 2,
    "start_time": "2024-12-09T18:24:43.777Z"
   },
   {
    "duration": 220,
    "start_time": "2024-12-09T18:25:49.280Z"
   },
   {
    "duration": 11,
    "start_time": "2024-12-09T18:25:59.566Z"
   },
   {
    "duration": 14,
    "start_time": "2024-12-09T18:28:33.453Z"
   },
   {
    "duration": 9,
    "start_time": "2024-12-09T18:29:11.889Z"
   },
   {
    "duration": 4,
    "start_time": "2024-12-09T18:29:15.982Z"
   },
   {
    "duration": 4,
    "start_time": "2024-12-09T18:30:20.654Z"
   },
   {
    "duration": 5,
    "start_time": "2024-12-09T18:30:30.166Z"
   },
   {
    "duration": 12,
    "start_time": "2024-12-09T18:30:42.378Z"
   },
   {
    "duration": 10,
    "start_time": "2024-12-09T18:31:09.688Z"
   },
   {
    "duration": 3,
    "start_time": "2024-12-09T18:32:05.235Z"
   },
   {
    "duration": 3,
    "start_time": "2024-12-09T18:33:24.881Z"
   },
   {
    "duration": 10,
    "start_time": "2024-12-09T18:34:05.575Z"
   },
   {
    "duration": 5,
    "start_time": "2024-12-09T18:34:06.998Z"
   },
   {
    "duration": 5,
    "start_time": "2024-12-09T18:34:09.001Z"
   },
   {
    "duration": 6,
    "start_time": "2024-12-09T18:34:10.348Z"
   },
   {
    "duration": 333,
    "start_time": "2024-12-09T18:34:43.625Z"
   },
   {
    "duration": 2717,
    "start_time": "2024-12-11T22:02:07.305Z"
   },
   {
    "duration": 22,
    "start_time": "2024-12-11T22:02:10.024Z"
   },
   {
    "duration": 4,
    "start_time": "2024-12-11T22:02:10.048Z"
   },
   {
    "duration": 2,
    "start_time": "2024-12-11T22:02:10.055Z"
   },
   {
    "duration": 4,
    "start_time": "2024-12-11T22:02:10.060Z"
   },
   {
    "duration": 23,
    "start_time": "2024-12-11T22:02:10.066Z"
   },
   {
    "duration": 19,
    "start_time": "2024-12-11T22:02:10.091Z"
   },
   {
    "duration": 5,
    "start_time": "2024-12-11T22:02:10.112Z"
   },
   {
    "duration": 4,
    "start_time": "2024-12-11T22:02:10.118Z"
   },
   {
    "duration": 4,
    "start_time": "2024-12-11T22:02:10.124Z"
   },
   {
    "duration": 6,
    "start_time": "2024-12-11T22:02:10.130Z"
   },
   {
    "duration": 343,
    "start_time": "2024-12-11T22:02:10.138Z"
   },
   {
    "duration": 262,
    "start_time": "2024-12-11T22:02:10.487Z"
   },
   {
    "duration": 22,
    "start_time": "2024-12-11T22:02:10.751Z"
   },
   {
    "duration": 18,
    "start_time": "2024-12-11T22:02:10.775Z"
   },
   {
    "duration": 6,
    "start_time": "2024-12-11T22:02:10.795Z"
   },
   {
    "duration": 10,
    "start_time": "2024-12-11T22:02:10.802Z"
   },
   {
    "duration": 6,
    "start_time": "2024-12-11T22:02:16.525Z"
   },
   {
    "duration": 4,
    "start_time": "2024-12-11T22:06:40.397Z"
   },
   {
    "duration": 298,
    "start_time": "2024-12-11T22:06:54.267Z"
   },
   {
    "duration": 275,
    "start_time": "2024-12-11T22:07:04.926Z"
   },
   {
    "duration": 6,
    "start_time": "2024-12-11T22:07:14.958Z"
   },
   {
    "duration": 6,
    "start_time": "2024-12-11T22:17:50.977Z"
   },
   {
    "duration": 810,
    "start_time": "2024-12-11T22:18:34.960Z"
   },
   {
    "duration": 23,
    "start_time": "2024-12-11T22:18:35.772Z"
   },
   {
    "duration": 4,
    "start_time": "2024-12-11T22:18:35.796Z"
   },
   {
    "duration": 2,
    "start_time": "2024-12-11T22:18:35.803Z"
   },
   {
    "duration": 4,
    "start_time": "2024-12-11T22:18:35.806Z"
   },
   {
    "duration": 3,
    "start_time": "2024-12-11T22:18:35.812Z"
   },
   {
    "duration": 15,
    "start_time": "2024-12-11T22:18:35.817Z"
   },
   {
    "duration": 4,
    "start_time": "2024-12-11T22:18:35.834Z"
   },
   {
    "duration": 4,
    "start_time": "2024-12-11T22:18:35.839Z"
   },
   {
    "duration": 45,
    "start_time": "2024-12-11T22:18:35.845Z"
   },
   {
    "duration": 6,
    "start_time": "2024-12-11T22:18:35.891Z"
   },
   {
    "duration": 278,
    "start_time": "2024-12-11T22:18:35.899Z"
   },
   {
    "duration": 268,
    "start_time": "2024-12-11T22:18:36.186Z"
   },
   {
    "duration": 16,
    "start_time": "2024-12-11T22:18:36.456Z"
   },
   {
    "duration": 19,
    "start_time": "2024-12-11T22:18:36.474Z"
   },
   {
    "duration": 6,
    "start_time": "2024-12-11T22:18:36.494Z"
   },
   {
    "duration": 65,
    "start_time": "2024-12-11T22:19:07.517Z"
   },
   {
    "duration": 6,
    "start_time": "2024-12-11T22:19:29.734Z"
   },
   {
    "duration": 159,
    "start_time": "2024-12-12T12:27:41.430Z"
   },
   {
    "duration": 839,
    "start_time": "2024-12-12T12:27:45.390Z"
   },
   {
    "duration": 22,
    "start_time": "2024-12-12T12:27:46.231Z"
   },
   {
    "duration": 4,
    "start_time": "2024-12-12T12:27:46.255Z"
   },
   {
    "duration": 2,
    "start_time": "2024-12-12T12:27:46.261Z"
   },
   {
    "duration": 3,
    "start_time": "2024-12-12T12:27:46.267Z"
   },
   {
    "duration": 4,
    "start_time": "2024-12-12T12:27:46.272Z"
   },
   {
    "duration": 20,
    "start_time": "2024-12-12T12:27:46.277Z"
   },
   {
    "duration": 5,
    "start_time": "2024-12-12T12:27:46.299Z"
   },
   {
    "duration": 3,
    "start_time": "2024-12-12T12:27:46.306Z"
   },
   {
    "duration": 4,
    "start_time": "2024-12-12T12:27:46.343Z"
   },
   {
    "duration": 5,
    "start_time": "2024-12-12T12:27:46.349Z"
   },
   {
    "duration": 288,
    "start_time": "2024-12-12T12:27:46.356Z"
   },
   {
    "duration": 265,
    "start_time": "2024-12-12T12:27:46.646Z"
   },
   {
    "duration": 20,
    "start_time": "2024-12-12T12:27:46.915Z"
   },
   {
    "duration": 10,
    "start_time": "2024-12-12T12:27:46.942Z"
   },
   {
    "duration": 5,
    "start_time": "2024-12-12T12:27:46.954Z"
   }
  ],
  "kernelspec": {
   "display_name": "Python 3 (ipykernel)",
   "language": "python",
   "name": "python3"
  },
  "language_info": {
   "codemirror_mode": {
    "name": "ipython",
    "version": 3
   },
   "file_extension": ".py",
   "mimetype": "text/x-python",
   "name": "python",
   "nbconvert_exporter": "python",
   "pygments_lexer": "ipython3",
   "version": "3.9.19"
  },
  "toc": {
   "base_numbering": 1,
   "nav_menu": {},
   "number_sections": true,
   "sideBar": true,
   "skip_h1_title": true,
   "title_cell": "Table of Contents",
   "title_sidebar": "Contents",
   "toc_cell": false,
   "toc_position": {},
   "toc_section_display": true,
   "toc_window_display": false
  }
 },
 "nbformat": 4,
 "nbformat_minor": 2
}
